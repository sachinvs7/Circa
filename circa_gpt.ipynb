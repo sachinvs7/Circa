{
 "cells": [
  {
   "cell_type": "code",
   "execution_count": 1,
   "metadata": {
    "_cell_guid": "b1076dfc-b9ad-4769-8c92-a6c4dae69d19",
    "_uuid": "8f2839f25d086af736a60e9eeb907d3b93b6e0e5",
    "execution": {
     "iopub.execute_input": "2023-10-09T18:31:31.249133Z",
     "iopub.status.busy": "2023-10-09T18:31:31.248808Z",
     "iopub.status.idle": "2023-10-09T18:31:41.847510Z",
     "shell.execute_reply": "2023-10-09T18:31:41.846613Z",
     "shell.execute_reply.started": "2023-10-09T18:31:31.249107Z"
    }
   },
   "outputs": [
    {
     "name": "stderr",
     "output_type": "stream",
     "text": [
      "/opt/conda/lib/python3.10/site-packages/scipy/__init__.py:146: UserWarning: A NumPy version >=1.16.5 and <1.23.0 is required for this version of SciPy (detected version 1.23.5\n",
      "  warnings.warn(f\"A NumPy version >={np_minversion} and <{np_maxversion}\"\n"
     ]
    }
   ],
   "source": [
    "import numpy as np\n",
    "import pandas as pd \n",
    "from transformers import Trainer, TrainingArguments\n",
    "from datasets import Dataset\n",
    "import torch\n",
    "from sklearn.model_selection import train_test_split\n",
    "from sklearn.metrics import accuracy_score\n",
    "from sklearn.metrics import f1_score"
   ]
  },
  {
   "cell_type": "code",
   "execution_count": 2,
   "metadata": {
    "execution": {
     "iopub.execute_input": "2023-10-09T18:31:41.850032Z",
     "iopub.status.busy": "2023-10-09T18:31:41.849312Z",
     "iopub.status.idle": "2023-10-09T18:31:41.856665Z",
     "shell.execute_reply": "2023-10-09T18:31:41.855807Z",
     "shell.execute_reply.started": "2023-10-09T18:31:41.849998Z"
    }
   },
   "outputs": [
    {
     "data": {
      "text/plain": [
       "('2.0.0', '4.28.1')"
      ]
     },
     "execution_count": 2,
     "metadata": {},
     "output_type": "execute_result"
    }
   ],
   "source": [
    "import torch\n",
    "import transformers\n",
    "torch.__version__, transformers.__version__"
   ]
  },
  {
   "cell_type": "code",
   "execution_count": 3,
   "metadata": {
    "execution": {
     "iopub.execute_input": "2023-10-09T18:31:41.858449Z",
     "iopub.status.busy": "2023-10-09T18:31:41.857901Z",
     "iopub.status.idle": "2023-10-09T18:31:41.892548Z",
     "shell.execute_reply": "2023-10-09T18:31:41.891579Z",
     "shell.execute_reply.started": "2023-10-09T18:31:41.858417Z"
    }
   },
   "outputs": [
    {
     "data": {
      "text/plain": [
       "True"
      ]
     },
     "execution_count": 3,
     "metadata": {},
     "output_type": "execute_result"
    }
   ],
   "source": [
    "torch.cuda.is_available()"
   ]
  },
  {
   "cell_type": "code",
   "execution_count": 4,
   "metadata": {
    "execution": {
     "iopub.execute_input": "2023-10-09T18:31:41.895810Z",
     "iopub.status.busy": "2023-10-09T18:31:41.894957Z",
     "iopub.status.idle": "2023-10-09T18:31:42.088961Z",
     "shell.execute_reply": "2023-10-09T18:31:42.088006Z",
     "shell.execute_reply.started": "2023-10-09T18:31:41.895780Z"
    }
   },
   "outputs": [
    {
     "data": {
      "text/html": [
       "<div>\n",
       "<style scoped>\n",
       "    .dataframe tbody tr th:only-of-type {\n",
       "        vertical-align: middle;\n",
       "    }\n",
       "\n",
       "    .dataframe tbody tr th {\n",
       "        vertical-align: top;\n",
       "    }\n",
       "\n",
       "    .dataframe thead th {\n",
       "        text-align: right;\n",
       "    }\n",
       "</style>\n",
       "<table border=\"1\" class=\"dataframe\">\n",
       "  <thead>\n",
       "    <tr style=\"text-align: right;\">\n",
       "      <th></th>\n",
       "      <th>id</th>\n",
       "      <th>context</th>\n",
       "      <th>question-X</th>\n",
       "      <th>canquestion-X</th>\n",
       "      <th>answer-Y</th>\n",
       "      <th>judgements</th>\n",
       "      <th>goldstandard1</th>\n",
       "      <th>goldstandard2</th>\n",
       "    </tr>\n",
       "  </thead>\n",
       "  <tbody>\n",
       "    <tr>\n",
       "      <th>0</th>\n",
       "      <td>0</td>\n",
       "      <td>Y has just travelled from a different city to ...</td>\n",
       "      <td>Are you employed?</td>\n",
       "      <td>I am employed .</td>\n",
       "      <td>I'm a veterinary technician.</td>\n",
       "      <td>Yes#Yes#Yes#Yes#Yes</td>\n",
       "      <td>Yes</td>\n",
       "      <td>Yes</td>\n",
       "    </tr>\n",
       "    <tr>\n",
       "      <th>1</th>\n",
       "      <td>1</td>\n",
       "      <td>X wants to know about Y's food preferences.</td>\n",
       "      <td>Are you a fan of Korean food?</td>\n",
       "      <td>I am a fan of Korean food .</td>\n",
       "      <td>I wouldn't say so</td>\n",
       "      <td>Probably no#No#No#No#Probably yes / sometimes yes</td>\n",
       "      <td>No</td>\n",
       "      <td>No</td>\n",
       "    </tr>\n",
       "    <tr>\n",
       "      <th>2</th>\n",
       "      <td>2</td>\n",
       "      <td>Y has just told X that he/she is thinking of b...</td>\n",
       "      <td>Are you bringing any pets into the flat?</td>\n",
       "      <td>I am bringing pets into the flat .</td>\n",
       "      <td>I do not own any pets</td>\n",
       "      <td>No#No#No#No#No</td>\n",
       "      <td>No</td>\n",
       "      <td>No</td>\n",
       "    </tr>\n",
       "    <tr>\n",
       "      <th>3</th>\n",
       "      <td>3</td>\n",
       "      <td>X wants to know what activities Y likes to do ...</td>\n",
       "      <td>Would you like to get some fresh air in your f...</td>\n",
       "      <td>I would like to get fresh air in my free time .</td>\n",
       "      <td>I am desperate to get out of the city.</td>\n",
       "      <td>Yes#Yes, subject to some conditions#Probably y...</td>\n",
       "      <td>Yes</td>\n",
       "      <td>Yes</td>\n",
       "    </tr>\n",
       "    <tr>\n",
       "      <th>4</th>\n",
       "      <td>4</td>\n",
       "      <td>X and Y are childhood neighbours who unexpecte...</td>\n",
       "      <td>Is your family still living in the neighborhood?</td>\n",
       "      <td>My family is living in the neighborhood .</td>\n",
       "      <td>My parents are snowbirds now.</td>\n",
       "      <td>No#In the middle, neither yes nor no#Probably ...</td>\n",
       "      <td>In the middle, neither yes nor no</td>\n",
       "      <td>In the middle, neither yes nor no</td>\n",
       "    </tr>\n",
       "  </tbody>\n",
       "</table>\n",
       "</div>"
      ],
      "text/plain": [
       "   id                                            context  \\\n",
       "0   0  Y has just travelled from a different city to ...   \n",
       "1   1        X wants to know about Y's food preferences.   \n",
       "2   2  Y has just told X that he/she is thinking of b...   \n",
       "3   3  X wants to know what activities Y likes to do ...   \n",
       "4   4  X and Y are childhood neighbours who unexpecte...   \n",
       "\n",
       "                                          question-X  \\\n",
       "0                                  Are you employed?   \n",
       "1                      Are you a fan of Korean food?   \n",
       "2           Are you bringing any pets into the flat?   \n",
       "3  Would you like to get some fresh air in your f...   \n",
       "4   Is your family still living in the neighborhood?   \n",
       "\n",
       "                                     canquestion-X  \\\n",
       "0                                  I am employed .   \n",
       "1                      I am a fan of Korean food .   \n",
       "2               I am bringing pets into the flat .   \n",
       "3  I would like to get fresh air in my free time .   \n",
       "4        My family is living in the neighborhood .   \n",
       "\n",
       "                                 answer-Y  \\\n",
       "0            I'm a veterinary technician.   \n",
       "1                       I wouldn't say so   \n",
       "2                   I do not own any pets   \n",
       "3  I am desperate to get out of the city.   \n",
       "4           My parents are snowbirds now.   \n",
       "\n",
       "                                          judgements  \\\n",
       "0                                Yes#Yes#Yes#Yes#Yes   \n",
       "1  Probably no#No#No#No#Probably yes / sometimes yes   \n",
       "2                                     No#No#No#No#No   \n",
       "3  Yes#Yes, subject to some conditions#Probably y...   \n",
       "4  No#In the middle, neither yes nor no#Probably ...   \n",
       "\n",
       "                       goldstandard1                      goldstandard2  \n",
       "0                                Yes                                Yes  \n",
       "1                                 No                                 No  \n",
       "2                                 No                                 No  \n",
       "3                                Yes                                Yes  \n",
       "4  In the middle, neither yes nor no  In the middle, neither yes nor no  "
      ]
     },
     "execution_count": 4,
     "metadata": {},
     "output_type": "execute_result"
    }
   ],
   "source": [
    "data=pd.read_csv('../input/circa-dataset/circa-data.tsv',sep='\\t')\n",
    "data.head()"
   ]
  },
  {
   "cell_type": "code",
   "execution_count": 5,
   "metadata": {
    "execution": {
     "iopub.execute_input": "2023-10-09T18:31:42.090931Z",
     "iopub.status.busy": "2023-10-09T18:31:42.090385Z",
     "iopub.status.idle": "2023-10-09T18:31:42.138388Z",
     "shell.execute_reply": "2023-10-09T18:31:42.137479Z",
     "shell.execute_reply.started": "2023-10-09T18:31:42.090900Z"
    }
   },
   "outputs": [
    {
     "data": {
      "text/plain": [
       "Yes                                  15745\n",
       "No                                   11985\n",
       "Yes, subject to some conditions       2580\n",
       "In the middle, neither yes nor no      701\n",
       "Other                                  504\n",
       "Name: goldstandard2, dtype: int64"
      ]
     },
     "execution_count": 5,
     "metadata": {},
     "output_type": "execute_result"
    }
   ],
   "source": [
    "data = data.dropna()\n",
    "data['goldstandard2'].value_counts()"
   ]
  },
  {
   "cell_type": "code",
   "execution_count": 6,
   "metadata": {
    "execution": {
     "iopub.execute_input": "2023-10-09T18:31:42.140017Z",
     "iopub.status.busy": "2023-10-09T18:31:42.139719Z",
     "iopub.status.idle": "2023-10-09T18:31:42.149303Z",
     "shell.execute_reply": "2023-10-09T18:31:42.148506Z",
     "shell.execute_reply.started": "2023-10-09T18:31:42.139989Z"
    }
   },
   "outputs": [],
   "source": [
    "data['label_2'] = data['goldstandard2'].copy()\n",
    "\n",
    "data['labels'] = data['label_2'].map({'Yes': 0, 'No': 1, 'Yes, subject to some conditions': 2,\n",
    "                                  'In the middle, neither yes nor no': 3, 'Other': 4})"
   ]
  },
  {
   "cell_type": "code",
   "execution_count": 7,
   "metadata": {
    "execution": {
     "iopub.execute_input": "2023-10-09T18:31:42.151107Z",
     "iopub.status.busy": "2023-10-09T18:31:42.150598Z",
     "iopub.status.idle": "2023-10-09T18:31:42.158774Z",
     "shell.execute_reply": "2023-10-09T18:31:42.157867Z",
     "shell.execute_reply.started": "2023-10-09T18:31:42.151076Z"
    }
   },
   "outputs": [],
   "source": [
    "data.reset_index(drop=True, inplace=True)"
   ]
  },
  {
   "cell_type": "code",
   "execution_count": 8,
   "metadata": {
    "execution": {
     "iopub.execute_input": "2023-10-09T18:31:42.160779Z",
     "iopub.status.busy": "2023-10-09T18:31:42.159946Z",
     "iopub.status.idle": "2023-10-09T18:31:42.192803Z",
     "shell.execute_reply": "2023-10-09T18:31:42.191809Z",
     "shell.execute_reply.started": "2023-10-09T18:31:42.160750Z"
    }
   },
   "outputs": [
    {
     "name": "stdout",
     "output_type": "stream",
     "text": [
      "(25212, 10) (6303, 10)\n",
      "(21430, 3)\n",
      "(3782, 3)\n"
     ]
    }
   ],
   "source": [
    "from sklearn.model_selection import train_test_split\n",
    "import tensorflow as tf\n",
    "\n",
    "train , test = train_test_split(data, test_size = 0.20)\n",
    "\n",
    "# train['sep_token'] = '[SEP]'\n",
    "# train['cls_token'] = '[CLS]'\n",
    "# train['text'] = train['cls_token'] + \\\n",
    "#                     train['context'] + train['sep_token']+ train['question-X'] + \\\n",
    "#                     train['sep_token'] + train['answer-Y'] + \\\n",
    "#                 train['sep_token']\n",
    "\n",
    "\n",
    "X = train[['question-X', 'answer-Y']]\n",
    "y = tf.keras.utils.to_categorical(train.labels, num_classes=5)\n",
    "\n",
    "\n",
    "ref_train = train[['question-X', 'answer-Y', 'labels']]\n",
    "\n",
    "df_train, df_val = train_test_split(ref_train, stratify=ref_train['labels'], random_state=42, test_size = 0.15)\n",
    "print(train.shape, test.shape)\n",
    "print(df_train.shape)\n",
    "print(df_val.shape)"
   ]
  },
  {
   "cell_type": "code",
   "execution_count": 9,
   "metadata": {
    "execution": {
     "iopub.execute_input": "2023-10-09T18:31:42.194641Z",
     "iopub.status.busy": "2023-10-09T18:31:42.194105Z",
     "iopub.status.idle": "2023-10-09T18:32:12.362918Z",
     "shell.execute_reply": "2023-10-09T18:32:12.361946Z",
     "shell.execute_reply.started": "2023-10-09T18:31:42.194612Z"
    }
   },
   "outputs": [
    {
     "data": {
      "application/vnd.jupyter.widget-view+json": {
       "model_id": "e1dd1304066c4080bb77186da459b853",
       "version_major": 2,
       "version_minor": 0
      },
      "text/plain": [
       "Downloading (…)okenizer_config.json:   0%|          | 0.00/560 [00:00<?, ?B/s]"
      ]
     },
     "metadata": {},
     "output_type": "display_data"
    },
    {
     "data": {
      "application/vnd.jupyter.widget-view+json": {
       "model_id": "8a2cfb3514fe4e129d15f546fcd9a09d",
       "version_major": 2,
       "version_minor": 0
      },
      "text/plain": [
       "Downloading (…)lve/main/config.json:   0%|          | 0.00/1.01k [00:00<?, ?B/s]"
      ]
     },
     "metadata": {},
     "output_type": "display_data"
    },
    {
     "data": {
      "application/vnd.jupyter.widget-view+json": {
       "model_id": "b9b5114b10ae461db461ed9f561b43b6",
       "version_major": 2,
       "version_minor": 0
      },
      "text/plain": [
       "Downloading (…)olve/main/vocab.json:   0%|          | 0.00/899k [00:00<?, ?B/s]"
      ]
     },
     "metadata": {},
     "output_type": "display_data"
    },
    {
     "data": {
      "application/vnd.jupyter.widget-view+json": {
       "model_id": "c96fa9a5a3e049518ef1c418f2683e86",
       "version_major": 2,
       "version_minor": 0
      },
      "text/plain": [
       "Downloading (…)olve/main/merges.txt:   0%|          | 0.00/456k [00:00<?, ?B/s]"
      ]
     },
     "metadata": {},
     "output_type": "display_data"
    },
    {
     "data": {
      "application/vnd.jupyter.widget-view+json": {
       "model_id": "06c047816ed64dff88c57ce50fcc35d2",
       "version_major": 2,
       "version_minor": 0
      },
      "text/plain": [
       "Downloading (…)cial_tokens_map.json:   0%|          | 0.00/357 [00:00<?, ?B/s]"
      ]
     },
     "metadata": {},
     "output_type": "display_data"
    },
    {
     "data": {
      "application/vnd.jupyter.widget-view+json": {
       "model_id": "5689f993c8fd44c1b5556724b6ce7979",
       "version_major": 2,
       "version_minor": 0
      },
      "text/plain": [
       "Downloading pytorch_model.bin:   0%|          | 0.00/526M [00:00<?, ?B/s]"
      ]
     },
     "metadata": {},
     "output_type": "display_data"
    },
    {
     "name": "stderr",
     "output_type": "stream",
     "text": [
      "Some weights of GPTNeoForSequenceClassification were not initialized from the model checkpoint at EleutherAI/gpt-neo-125M and are newly initialized: ['transformer.h.11.attn.attention.bias', 'transformer.h.5.attn.attention.bias', 'score.weight', 'transformer.h.3.attn.attention.bias', 'transformer.h.9.attn.attention.bias', 'transformer.h.7.attn.attention.bias', 'transformer.h.1.attn.attention.bias']\n",
      "You should probably TRAIN this model on a down-stream task to be able to use it for predictions and inference.\n"
     ]
    }
   ],
   "source": [
    "from transformers import AutoTokenizer, GPTNeoForSequenceClassification\n",
    "\n",
    "tokenizer = AutoTokenizer.from_pretrained(\"EleutherAI/gpt-neo-125M\")\n",
    "model = GPTNeoForSequenceClassification.from_pretrained(\"EleutherAI/gpt-neo-125M\", num_labels=5)"
   ]
  },
  {
   "cell_type": "code",
   "execution_count": 113,
   "metadata": {
    "execution": {
     "iopub.execute_input": "2023-10-09T21:01:29.726538Z",
     "iopub.status.busy": "2023-10-09T21:01:29.726190Z",
     "iopub.status.idle": "2023-10-09T21:01:29.733678Z",
     "shell.execute_reply": "2023-10-09T21:01:29.732738Z",
     "shell.execute_reply.started": "2023-10-09T21:01:29.726512Z"
    }
   },
   "outputs": [],
   "source": [
    "tokenizer.pad_token = tokenizer.eos_token"
   ]
  },
  {
   "cell_type": "code",
   "execution_count": 28,
   "metadata": {
    "execution": {
     "iopub.execute_input": "2023-10-09T19:59:19.994165Z",
     "iopub.status.busy": "2023-10-09T19:59:19.993834Z",
     "iopub.status.idle": "2023-10-09T19:59:20.019162Z",
     "shell.execute_reply": "2023-10-09T19:59:20.018214Z",
     "shell.execute_reply.started": "2023-10-09T19:59:19.994141Z"
    }
   },
   "outputs": [
    {
     "data": {
      "text/html": [
       "<div>\n",
       "<style scoped>\n",
       "    .dataframe tbody tr th:only-of-type {\n",
       "        vertical-align: middle;\n",
       "    }\n",
       "\n",
       "    .dataframe tbody tr th {\n",
       "        vertical-align: top;\n",
       "    }\n",
       "\n",
       "    .dataframe thead th {\n",
       "        text-align: right;\n",
       "    }\n",
       "</style>\n",
       "<table border=\"1\" class=\"dataframe\">\n",
       "  <thead>\n",
       "    <tr style=\"text-align: right;\">\n",
       "      <th></th>\n",
       "      <th>id</th>\n",
       "      <th>context</th>\n",
       "      <th>question-X</th>\n",
       "      <th>canquestion-X</th>\n",
       "      <th>answer-Y</th>\n",
       "      <th>judgements</th>\n",
       "      <th>goldstandard1</th>\n",
       "      <th>goldstandard2</th>\n",
       "      <th>label_2</th>\n",
       "      <th>labels</th>\n",
       "    </tr>\n",
       "  </thead>\n",
       "  <tbody>\n",
       "    <tr>\n",
       "      <th>15273</th>\n",
       "      <td>16776</td>\n",
       "      <td>X wants to know what sorts of books Y likes to...</td>\n",
       "      <td>Do you like books with movie remakes?</td>\n",
       "      <td>I like books with movie remakes .</td>\n",
       "      <td>I enjoy reading the book, then watching the mo...</td>\n",
       "      <td>Yes#Yes#Yes#Yes#Yes</td>\n",
       "      <td>Yes</td>\n",
       "      <td>Yes</td>\n",
       "      <td>Yes</td>\n",
       "      <td>0</td>\n",
       "    </tr>\n",
       "    <tr>\n",
       "      <th>3102</th>\n",
       "      <td>3430</td>\n",
       "      <td>Y has just moved into a neighbourhood and meet...</td>\n",
       "      <td>Do you watch documentaries very often?</td>\n",
       "      <td>I watch documentaries very often .</td>\n",
       "      <td>I prefer thrillers.</td>\n",
       "      <td>No#No#No#In the middle, neither yes nor no#No</td>\n",
       "      <td>No</td>\n",
       "      <td>No</td>\n",
       "      <td>No</td>\n",
       "      <td>1</td>\n",
       "    </tr>\n",
       "    <tr>\n",
       "      <th>23107</th>\n",
       "      <td>25163</td>\n",
       "      <td>X wants to know what activities Y likes to do ...</td>\n",
       "      <td>Do you like to spend your weekends at home?</td>\n",
       "      <td>I like to spend my weekends at home .</td>\n",
       "      <td>I try to avoid leaving my house as much as pos...</td>\n",
       "      <td>No#Yes#Yes#Yes#Yes</td>\n",
       "      <td>Yes</td>\n",
       "      <td>Yes</td>\n",
       "      <td>Yes</td>\n",
       "      <td>0</td>\n",
       "    </tr>\n",
       "    <tr>\n",
       "      <th>25753</th>\n",
       "      <td>28055</td>\n",
       "      <td>X wants to know about Y's music preferences.</td>\n",
       "      <td>Would you like to go to the symphony?</td>\n",
       "      <td>I would like to go to the symphony .</td>\n",
       "      <td>It is something I would love to see.</td>\n",
       "      <td>Yes#Yes#Yes#Yes#Yes</td>\n",
       "      <td>Yes</td>\n",
       "      <td>Yes</td>\n",
       "      <td>Yes</td>\n",
       "      <td>0</td>\n",
       "    </tr>\n",
       "    <tr>\n",
       "      <th>8837</th>\n",
       "      <td>9766</td>\n",
       "      <td>X wants to know about Y's music preferences.</td>\n",
       "      <td>Do you like Michael Buble?</td>\n",
       "      <td>I like Michael Buble .</td>\n",
       "      <td>I'm into that big band sound.</td>\n",
       "      <td>Yes#No#Yes#No#Yes</td>\n",
       "      <td>Yes</td>\n",
       "      <td>Yes</td>\n",
       "      <td>Yes</td>\n",
       "      <td>0</td>\n",
       "    </tr>\n",
       "    <tr>\n",
       "      <th>...</th>\n",
       "      <td>...</td>\n",
       "      <td>...</td>\n",
       "      <td>...</td>\n",
       "      <td>...</td>\n",
       "      <td>...</td>\n",
       "      <td>...</td>\n",
       "      <td>...</td>\n",
       "      <td>...</td>\n",
       "      <td>...</td>\n",
       "      <td>...</td>\n",
       "    </tr>\n",
       "    <tr>\n",
       "      <th>17100</th>\n",
       "      <td>18746</td>\n",
       "      <td>Y has just moved into a neighbourhood and meet...</td>\n",
       "      <td>Do you enjoy sports?</td>\n",
       "      <td>I enjoy sports .</td>\n",
       "      <td>I can watch any sport on TV.</td>\n",
       "      <td>Yes, subject to some conditions#Yes#I am not s...</td>\n",
       "      <td>Yes</td>\n",
       "      <td>Yes</td>\n",
       "      <td>Yes</td>\n",
       "      <td>0</td>\n",
       "    </tr>\n",
       "    <tr>\n",
       "      <th>177</th>\n",
       "      <td>202</td>\n",
       "      <td>Y has just moved into a neighbourhood and meet...</td>\n",
       "      <td>Have you lived in this area long?</td>\n",
       "      <td>I have lived in this area long .</td>\n",
       "      <td>Several of my neighbors remember me in diapers.</td>\n",
       "      <td>Yes#Yes#Yes#Yes#Yes</td>\n",
       "      <td>Yes</td>\n",
       "      <td>Yes</td>\n",
       "      <td>Yes</td>\n",
       "      <td>0</td>\n",
       "    </tr>\n",
       "    <tr>\n",
       "      <th>29342</th>\n",
       "      <td>31878</td>\n",
       "      <td>Y has just told X that he/she is considering s...</td>\n",
       "      <td>Have you worked with sql previously?</td>\n",
       "      <td>I have worked with sql previously .</td>\n",
       "      <td>I've only worked with HTML.</td>\n",
       "      <td>No#No#No#No#No</td>\n",
       "      <td>No</td>\n",
       "      <td>No</td>\n",
       "      <td>No</td>\n",
       "      <td>1</td>\n",
       "    </tr>\n",
       "    <tr>\n",
       "      <th>29691</th>\n",
       "      <td>32267</td>\n",
       "      <td>Y has just travelled from a different city to ...</td>\n",
       "      <td>Would you like to take the spare key to my house?</td>\n",
       "      <td>I would like to take the spare key to my house .</td>\n",
       "      <td>That would make things a lot easier.</td>\n",
       "      <td>Yes#Yes#Yes#Yes#Yes</td>\n",
       "      <td>Yes</td>\n",
       "      <td>Yes</td>\n",
       "      <td>Yes</td>\n",
       "      <td>0</td>\n",
       "    </tr>\n",
       "    <tr>\n",
       "      <th>21626</th>\n",
       "      <td>23592</td>\n",
       "      <td>X wants to know what activities Y likes to do ...</td>\n",
       "      <td>Do you want to go to the casino?</td>\n",
       "      <td>I want to go to the casino .</td>\n",
       "      <td>I didn't bring any money.</td>\n",
       "      <td>Probably no#Probably no#Probably no#No#Probabl...</td>\n",
       "      <td>Probably no</td>\n",
       "      <td>No</td>\n",
       "      <td>No</td>\n",
       "      <td>1</td>\n",
       "    </tr>\n",
       "  </tbody>\n",
       "</table>\n",
       "<p>6303 rows × 10 columns</p>\n",
       "</div>"
      ],
      "text/plain": [
       "          id                                            context  \\\n",
       "15273  16776  X wants to know what sorts of books Y likes to...   \n",
       "3102    3430  Y has just moved into a neighbourhood and meet...   \n",
       "23107  25163  X wants to know what activities Y likes to do ...   \n",
       "25753  28055       X wants to know about Y's music preferences.   \n",
       "8837    9766       X wants to know about Y's music preferences.   \n",
       "...      ...                                                ...   \n",
       "17100  18746  Y has just moved into a neighbourhood and meet...   \n",
       "177      202  Y has just moved into a neighbourhood and meet...   \n",
       "29342  31878  Y has just told X that he/she is considering s...   \n",
       "29691  32267  Y has just travelled from a different city to ...   \n",
       "21626  23592  X wants to know what activities Y likes to do ...   \n",
       "\n",
       "                                              question-X  \\\n",
       "15273              Do you like books with movie remakes?   \n",
       "3102              Do you watch documentaries very often?   \n",
       "23107        Do you like to spend your weekends at home?   \n",
       "25753              Would you like to go to the symphony?   \n",
       "8837                          Do you like Michael Buble?   \n",
       "...                                                  ...   \n",
       "17100                               Do you enjoy sports?   \n",
       "177                    Have you lived in this area long?   \n",
       "29342               Have you worked with sql previously?   \n",
       "29691  Would you like to take the spare key to my house?   \n",
       "21626                   Do you want to go to the casino?   \n",
       "\n",
       "                                          canquestion-X  \\\n",
       "15273                 I like books with movie remakes .   \n",
       "3102                 I watch documentaries very often .   \n",
       "23107             I like to spend my weekends at home .   \n",
       "25753              I would like to go to the symphony .   \n",
       "8837                             I like Michael Buble .   \n",
       "...                                                 ...   \n",
       "17100                                  I enjoy sports .   \n",
       "177                    I have lived in this area long .   \n",
       "29342               I have worked with sql previously .   \n",
       "29691  I would like to take the spare key to my house .   \n",
       "21626                      I want to go to the casino .   \n",
       "\n",
       "                                                answer-Y  \\\n",
       "15273  I enjoy reading the book, then watching the mo...   \n",
       "3102                                 I prefer thrillers.   \n",
       "23107  I try to avoid leaving my house as much as pos...   \n",
       "25753               It is something I would love to see.   \n",
       "8837                       I'm into that big band sound.   \n",
       "...                                                  ...   \n",
       "17100                       I can watch any sport on TV.   \n",
       "177      Several of my neighbors remember me in diapers.   \n",
       "29342                        I've only worked with HTML.   \n",
       "29691               That would make things a lot easier.   \n",
       "21626                          I didn't bring any money.   \n",
       "\n",
       "                                              judgements goldstandard1  \\\n",
       "15273                                Yes#Yes#Yes#Yes#Yes           Yes   \n",
       "3102       No#No#No#In the middle, neither yes nor no#No            No   \n",
       "23107                                 No#Yes#Yes#Yes#Yes           Yes   \n",
       "25753                                Yes#Yes#Yes#Yes#Yes           Yes   \n",
       "8837                                   Yes#No#Yes#No#Yes           Yes   \n",
       "...                                                  ...           ...   \n",
       "17100  Yes, subject to some conditions#Yes#I am not s...           Yes   \n",
       "177                                  Yes#Yes#Yes#Yes#Yes           Yes   \n",
       "29342                                     No#No#No#No#No            No   \n",
       "29691                                Yes#Yes#Yes#Yes#Yes           Yes   \n",
       "21626  Probably no#Probably no#Probably no#No#Probabl...   Probably no   \n",
       "\n",
       "      goldstandard2 label_2  labels  \n",
       "15273           Yes     Yes       0  \n",
       "3102             No      No       1  \n",
       "23107           Yes     Yes       0  \n",
       "25753           Yes     Yes       0  \n",
       "8837            Yes     Yes       0  \n",
       "...             ...     ...     ...  \n",
       "17100           Yes     Yes       0  \n",
       "177             Yes     Yes       0  \n",
       "29342            No      No       1  \n",
       "29691           Yes     Yes       0  \n",
       "21626            No      No       1  \n",
       "\n",
       "[6303 rows x 10 columns]"
      ]
     },
     "execution_count": 28,
     "metadata": {},
     "output_type": "execute_result"
    }
   ],
   "source": [
    "test"
   ]
  },
  {
   "cell_type": "code",
   "execution_count": 11,
   "metadata": {
    "execution": {
     "iopub.execute_input": "2023-10-09T18:32:12.373047Z",
     "iopub.status.busy": "2023-10-09T18:32:12.372369Z",
     "iopub.status.idle": "2023-10-09T18:32:19.243581Z",
     "shell.execute_reply": "2023-10-09T18:32:19.242616Z",
     "shell.execute_reply.started": "2023-10-09T18:32:12.373017Z"
    }
   },
   "outputs": [
    {
     "data": {
      "application/vnd.jupyter.widget-view+json": {
       "model_id": "c0ed96302656486d8acabc48a0da00dd",
       "version_major": 2,
       "version_minor": 0
      },
      "text/plain": [
       "  0%|          | 0/22 [00:00<?, ?ba/s]"
      ]
     },
     "metadata": {},
     "output_type": "display_data"
    },
    {
     "data": {
      "application/vnd.jupyter.widget-view+json": {
       "model_id": "60e2332a9e784aaebf663ab07f9e0521",
       "version_major": 2,
       "version_minor": 0
      },
      "text/plain": [
       "  0%|          | 0/4 [00:00<?, ?ba/s]"
      ]
     },
     "metadata": {},
     "output_type": "display_data"
    },
    {
     "data": {
      "application/vnd.jupyter.widget-view+json": {
       "model_id": "4d5a52b1a4384eabb354971c21bb7b28",
       "version_major": 2,
       "version_minor": 0
      },
      "text/plain": [
       "  0%|          | 0/7 [00:00<?, ?ba/s]"
      ]
     },
     "metadata": {},
     "output_type": "display_data"
    }
   ],
   "source": [
    "dataset_train = Dataset.from_pandas(df_train)\n",
    "dataset_val = Dataset.from_pandas(df_val)\n",
    "dataset_test = Dataset.from_pandas(test)\n",
    "\n",
    "tokenize_function = lambda e: tokenizer(e['question-X'], e['answer-Y'], truncation=True, padding='max_length', max_length=512)\n",
    "\n",
    "dataset_train = dataset_train.map(tokenize_function, batched=True)\n",
    "dataset_val = dataset_val.map(tokenize_function, batched=True)\n",
    "dataset_test = dataset_test.map(tokenize_function, batched=True)"
   ]
  },
  {
   "cell_type": "code",
   "execution_count": 12,
   "metadata": {
    "execution": {
     "iopub.execute_input": "2023-10-09T18:32:19.245346Z",
     "iopub.status.busy": "2023-10-09T18:32:19.245009Z",
     "iopub.status.idle": "2023-10-09T18:32:19.250892Z",
     "shell.execute_reply": "2023-10-09T18:32:19.250043Z",
     "shell.execute_reply.started": "2023-10-09T18:32:19.245316Z"
    }
   },
   "outputs": [],
   "source": [
    "dataset_train.set_format(type='torch')\n",
    "dataset_val.set_format(type='torch')\n",
    "dataset_test.set_format(type='torch')"
   ]
  },
  {
   "cell_type": "code",
   "execution_count": 13,
   "metadata": {
    "execution": {
     "iopub.execute_input": "2023-10-09T18:32:19.252779Z",
     "iopub.status.busy": "2023-10-09T18:32:19.251957Z",
     "iopub.status.idle": "2023-10-09T18:32:19.264494Z",
     "shell.execute_reply": "2023-10-09T18:32:19.263521Z",
     "shell.execute_reply.started": "2023-10-09T18:32:19.252748Z"
    }
   },
   "outputs": [
    {
     "data": {
      "text/plain": [
       "Dataset({\n",
       "    features: ['question-X', 'answer-Y', 'labels', '__index_level_0__', 'input_ids', 'attention_mask'],\n",
       "    num_rows: 21430\n",
       "})"
      ]
     },
     "execution_count": 13,
     "metadata": {},
     "output_type": "execute_result"
    }
   ],
   "source": [
    "dataset_train"
   ]
  },
  {
   "cell_type": "code",
   "execution_count": 14,
   "metadata": {
    "execution": {
     "iopub.execute_input": "2023-10-09T18:32:19.266739Z",
     "iopub.status.busy": "2023-10-09T18:32:19.265755Z",
     "iopub.status.idle": "2023-10-09T18:32:19.273387Z",
     "shell.execute_reply": "2023-10-09T18:32:19.272492Z",
     "shell.execute_reply.started": "2023-10-09T18:32:19.266708Z"
    }
   },
   "outputs": [],
   "source": [
    "# dataset_train.save_to_disk('train_gpt_neo_125')\n",
    "# dataset_val.save_to_disk('val_gpt_neo_125')\n",
    "# dataset_test.save_to_disk('test_gpt_neo_125')"
   ]
  },
  {
   "cell_type": "code",
   "execution_count": 15,
   "metadata": {
    "execution": {
     "iopub.execute_input": "2023-10-09T18:32:19.275591Z",
     "iopub.status.busy": "2023-10-09T18:32:19.274594Z",
     "iopub.status.idle": "2023-10-09T18:32:19.282706Z",
     "shell.execute_reply": "2023-10-09T18:32:19.281803Z",
     "shell.execute_reply.started": "2023-10-09T18:32:19.275562Z"
    }
   },
   "outputs": [],
   "source": [
    "# from datasets import load_dataset, load_from_disk\n",
    "# dataset_train = load_from_disk('/kaggle/input/gpt-neo-125/train_gpt_neo_125')\n",
    "# dataset_val = load_from_disk('/kaggle/input/gpt-neo-125/val_gpt_neo_125')\n",
    "# dataset_test = load_from_disk('/kaggle/input/gpt-neo-125/test_gpt_neo_125')"
   ]
  },
  {
   "cell_type": "code",
   "execution_count": 112,
   "metadata": {
    "execution": {
     "iopub.execute_input": "2023-10-09T21:01:22.864480Z",
     "iopub.status.busy": "2023-10-09T21:01:22.863972Z",
     "iopub.status.idle": "2023-10-09T21:01:22.871977Z",
     "shell.execute_reply": "2023-10-09T21:01:22.870363Z",
     "shell.execute_reply.started": "2023-10-09T21:01:22.864430Z"
    }
   },
   "outputs": [],
   "source": [
    "model.config.pad_token_id = model.config.eos_token_id"
   ]
  },
  {
   "cell_type": "code",
   "execution_count": 17,
   "metadata": {
    "execution": {
     "iopub.execute_input": "2023-10-09T18:32:19.293998Z",
     "iopub.status.busy": "2023-10-09T18:32:19.293476Z",
     "iopub.status.idle": "2023-10-09T19:36:37.009429Z",
     "shell.execute_reply": "2023-10-09T19:36:37.008509Z",
     "shell.execute_reply.started": "2023-10-09T18:32:19.293969Z"
    }
   },
   "outputs": [
    {
     "name": "stderr",
     "output_type": "stream",
     "text": [
      "/opt/conda/lib/python3.10/site-packages/transformers/optimization.py:391: FutureWarning: This implementation of AdamW is deprecated and will be removed in a future version. Use the PyTorch implementation torch.optim.AdamW instead, or set `no_deprecation_warning=True` to disable this warning\n",
      "  warnings.warn(\n",
      "\u001b[34m\u001b[1mwandb\u001b[0m: Logging into wandb.ai. (Learn how to deploy a W&B server locally: https://wandb.me/wandb-server)\n",
      "\u001b[34m\u001b[1mwandb\u001b[0m: You can find your API key in your browser here: https://wandb.ai/authorize\n",
      "\u001b[34m\u001b[1mwandb\u001b[0m: Paste an API key from your profile and hit enter, or press ctrl+c to quit:"
     ]
    },
    {
     "name": "stdin",
     "output_type": "stream",
     "text": [
      "  ········································\n"
     ]
    },
    {
     "name": "stderr",
     "output_type": "stream",
     "text": [
      "\u001b[34m\u001b[1mwandb\u001b[0m: Appending key for api.wandb.ai to your netrc file: /root/.netrc\n"
     ]
    },
    {
     "data": {
      "text/html": [
       "wandb version 0.15.12 is available!  To upgrade, please run:\n",
       " $ pip install wandb --upgrade"
      ],
      "text/plain": [
       "<IPython.core.display.HTML object>"
      ]
     },
     "metadata": {},
     "output_type": "display_data"
    },
    {
     "data": {
      "text/html": [
       "Tracking run with wandb version 0.15.0"
      ],
      "text/plain": [
       "<IPython.core.display.HTML object>"
      ]
     },
     "metadata": {},
     "output_type": "display_data"
    },
    {
     "data": {
      "text/html": [
       "Run data is saved locally in <code>/kaggle/working/wandb/run-20231009_183244-x96sa1t7</code>"
      ],
      "text/plain": [
       "<IPython.core.display.HTML object>"
      ]
     },
     "metadata": {},
     "output_type": "display_data"
    },
    {
     "data": {
      "text/html": [
       "Syncing run <strong><a href='https://wandb.ai/sachinvs1738/huggingface/runs/x96sa1t7' target=\"_blank\">eternal-dream-18</a></strong> to <a href='https://wandb.ai/sachinvs1738/huggingface' target=\"_blank\">Weights & Biases</a> (<a href='https://wandb.me/run' target=\"_blank\">docs</a>)<br/>"
      ],
      "text/plain": [
       "<IPython.core.display.HTML object>"
      ]
     },
     "metadata": {},
     "output_type": "display_data"
    },
    {
     "data": {
      "text/html": [
       " View project at <a href='https://wandb.ai/sachinvs1738/huggingface' target=\"_blank\">https://wandb.ai/sachinvs1738/huggingface</a>"
      ],
      "text/plain": [
       "<IPython.core.display.HTML object>"
      ]
     },
     "metadata": {},
     "output_type": "display_data"
    },
    {
     "data": {
      "text/html": [
       " View run at <a href='https://wandb.ai/sachinvs1738/huggingface/runs/x96sa1t7' target=\"_blank\">https://wandb.ai/sachinvs1738/huggingface/runs/x96sa1t7</a>"
      ],
      "text/plain": [
       "<IPython.core.display.HTML object>"
      ]
     },
     "metadata": {},
     "output_type": "display_data"
    },
    {
     "data": {
      "text/html": [
       "\n",
       "    <div>\n",
       "      \n",
       "      <progress value='4020' max='4020' style='width:300px; height:20px; vertical-align: middle;'></progress>\n",
       "      [4020/4020 1:03:18, Epoch 3/3]\n",
       "    </div>\n",
       "    <table border=\"1\" class=\"dataframe\">\n",
       "  <thead>\n",
       " <tr style=\"text-align: left;\">\n",
       "      <th>Epoch</th>\n",
       "      <th>Training Loss</th>\n",
       "      <th>Validation Loss</th>\n",
       "      <th>Accuracy</th>\n",
       "    </tr>\n",
       "  </thead>\n",
       "  <tbody>\n",
       "    <tr>\n",
       "      <td>1</td>\n",
       "      <td>0.494200</td>\n",
       "      <td>0.466130</td>\n",
       "      <td>0.829984</td>\n",
       "    </tr>\n",
       "    <tr>\n",
       "      <td>2</td>\n",
       "      <td>0.294200</td>\n",
       "      <td>0.477603</td>\n",
       "      <td>0.845849</td>\n",
       "    </tr>\n",
       "    <tr>\n",
       "      <td>3</td>\n",
       "      <td>0.132200</td>\n",
       "      <td>0.619853</td>\n",
       "      <td>0.849551</td>\n",
       "    </tr>\n",
       "  </tbody>\n",
       "</table><p>"
      ],
      "text/plain": [
       "<IPython.core.display.HTML object>"
      ]
     },
     "metadata": {},
     "output_type": "display_data"
    },
    {
     "data": {
      "text/plain": [
       "TrainOutput(global_step=4020, training_loss=0.3299283002739522, metrics={'train_runtime': 3852.8072, 'train_samples_per_second': 16.687, 'train_steps_per_second': 1.043, 'total_flos': 1.679376268394496e+16, 'train_loss': 0.3299283002739522, 'epoch': 3.0})"
      ]
     },
     "execution_count": 17,
     "metadata": {},
     "output_type": "execute_result"
    }
   ],
   "source": [
    "from sklearn.metrics import accuracy_score, f1_score, confusion_matrix\n",
    "\n",
    "def compute_metrics(eval_pred):\n",
    "    predictions, labels = eval_pred\n",
    "    predictions = np.argmax(predictions, axis=1)\n",
    "    #tn, fp, fn, tp = confusion_matrix(labels, predictions).ravel()\n",
    "    return {'accuracy' : accuracy_score(labels, predictions)}\n",
    "\n",
    "\n",
    "\n",
    "\n",
    "args = TrainingArguments(\n",
    "        output_dir = 'temp/',\n",
    "        evaluation_strategy = 'epoch',\n",
    "        save_strategy = 'epoch',\n",
    "        learning_rate=3e-5,\n",
    "        per_device_train_batch_size=16,\n",
    "        per_device_eval_batch_size=16,\n",
    "        num_train_epochs=3,\n",
    "        weight_decay=0.01,\n",
    "        load_best_model_at_end=True,\n",
    "        metric_for_best_model='accuracy',\n",
    ")\n",
    "\n",
    "trainer = Trainer(\n",
    "        model=model,                         \n",
    "        args=args,                  \n",
    "        train_dataset=dataset_train,         \n",
    "        eval_dataset=dataset_val,            \n",
    "        compute_metrics=compute_metrics\n",
    ")\n",
    "\n",
    "trainer.train()   "
   ]
  },
  {
   "cell_type": "code",
   "execution_count": 18,
   "metadata": {
    "execution": {
     "iopub.execute_input": "2023-10-09T19:36:37.011268Z",
     "iopub.status.busy": "2023-10-09T19:36:37.010719Z",
     "iopub.status.idle": "2023-10-09T19:38:38.963043Z",
     "shell.execute_reply": "2023-10-09T19:38:38.962234Z",
     "shell.execute_reply.started": "2023-10-09T19:36:37.011238Z"
    }
   },
   "outputs": [
    {
     "data": {
      "text/html": [],
      "text/plain": [
       "<IPython.core.display.HTML object>"
      ]
     },
     "metadata": {},
     "output_type": "display_data"
    },
    {
     "data": {
      "text/plain": [
       "{'test_loss': 0.5947389006614685,\n",
       " 'test_accuracy': 0.8537204505790893,\n",
       " 'test_runtime': 121.9171,\n",
       " 'test_samples_per_second': 51.699,\n",
       " 'test_steps_per_second': 3.232}"
      ]
     },
     "execution_count": 18,
     "metadata": {},
     "output_type": "execute_result"
    }
   ],
   "source": [
    "model.eval()\n",
    "trainer.predict(dataset_test).metrics"
   ]
  },
  {
   "cell_type": "code",
   "execution_count": 25,
   "metadata": {
    "execution": {
     "iopub.execute_input": "2023-10-09T19:51:31.552361Z",
     "iopub.status.busy": "2023-10-09T19:51:31.552011Z",
     "iopub.status.idle": "2023-10-09T19:51:32.761875Z",
     "shell.execute_reply": "2023-10-09T19:51:32.760836Z",
     "shell.execute_reply.started": "2023-10-09T19:51:31.552333Z"
    }
   },
   "outputs": [],
   "source": [
    "trainer.save_model(\"my_trained_model\")"
   ]
  },
  {
   "cell_type": "code",
   "execution_count": 81,
   "metadata": {
    "execution": {
     "iopub.execute_input": "2023-10-09T20:35:02.116096Z",
     "iopub.status.busy": "2023-10-09T20:35:02.115675Z",
     "iopub.status.idle": "2023-10-09T20:35:02.131734Z",
     "shell.execute_reply": "2023-10-09T20:35:02.130697Z",
     "shell.execute_reply.started": "2023-10-09T20:35:02.116064Z"
    }
   },
   "outputs": [
    {
     "data": {
      "text/html": [
       "<div>\n",
       "<style scoped>\n",
       "    .dataframe tbody tr th:only-of-type {\n",
       "        vertical-align: middle;\n",
       "    }\n",
       "\n",
       "    .dataframe tbody tr th {\n",
       "        vertical-align: top;\n",
       "    }\n",
       "\n",
       "    .dataframe thead th {\n",
       "        text-align: right;\n",
       "    }\n",
       "</style>\n",
       "<table border=\"1\" class=\"dataframe\">\n",
       "  <thead>\n",
       "    <tr style=\"text-align: right;\">\n",
       "      <th></th>\n",
       "      <th>id</th>\n",
       "      <th>context</th>\n",
       "      <th>question-X</th>\n",
       "      <th>canquestion-X</th>\n",
       "      <th>answer-Y</th>\n",
       "      <th>judgements</th>\n",
       "      <th>goldstandard1</th>\n",
       "      <th>goldstandard2</th>\n",
       "      <th>label_2</th>\n",
       "      <th>labels</th>\n",
       "    </tr>\n",
       "  </thead>\n",
       "  <tbody>\n",
       "  </tbody>\n",
       "</table>\n",
       "</div>"
      ],
      "text/plain": [
       "Empty DataFrame\n",
       "Columns: [id, context, question-X, canquestion-X, answer-Y, judgements, goldstandard1, goldstandard2, label_2, labels]\n",
       "Index: []"
      ]
     },
     "execution_count": 81,
     "metadata": {},
     "output_type": "execute_result"
    }
   ],
   "source": [
    "data_template = test.copy()\n",
    "data_template = data_template.iloc[0:0]\n",
    "data_template"
   ]
  },
  {
   "cell_type": "code",
   "execution_count": 82,
   "metadata": {
    "execution": {
     "iopub.execute_input": "2023-10-09T20:35:05.014100Z",
     "iopub.status.busy": "2023-10-09T20:35:05.013287Z",
     "iopub.status.idle": "2023-10-09T20:35:05.025872Z",
     "shell.execute_reply": "2023-10-09T20:35:05.023513Z",
     "shell.execute_reply.started": "2023-10-09T20:35:05.014068Z"
    }
   },
   "outputs": [],
   "source": [
    "questions = [\"Did you eat the last piece of cake?\", \n",
    "            \"Are you coming to the meeting tomorrow?\",\n",
    "            \"Did you finish the report I asked you to complete?\",\n",
    "            \"Have you decided on your vacation destination?\",\n",
    "            \"Did you enjoy the service that we provided?\",\n",
    "            \"Did you like the book you just finished?\",\n",
    "            \"Are you willing to contribute to the charity?\",\n",
    "            \"Want to go to the waterpark this weekend?\",\n",
    "            \"Will you support the new policy?\"]\n",
    "answers = [\"I really enjoyed it. It was delicious!\",\n",
    "          \"I'll need to check my schedule and see what's going on.\",\n",
    "          \"I worked on it for a while, but I got busy with other things.\",\n",
    "          \"I'm thinking about a few places, but I need to check my budget first.\",\n",
    "          \"I would have to say yes to disappointment I'm afraid.\",\n",
    "          \"The ending was unexpected, but I had mixed feelings about the characters.\",\n",
    "          \"I'm open to it, provided it's a cause I believe in.\",\n",
    "          \"Let's get soaked!\",\n",
    "          \"Haven't made up my mind yet.\"]"
   ]
  },
  {
   "cell_type": "code",
   "execution_count": 124,
   "metadata": {
    "execution": {
     "iopub.execute_input": "2023-10-09T21:08:37.546877Z",
     "iopub.status.busy": "2023-10-09T21:08:37.546541Z",
     "iopub.status.idle": "2023-10-09T21:08:37.577307Z",
     "shell.execute_reply": "2023-10-09T21:08:37.576232Z",
     "shell.execute_reply.started": "2023-10-09T21:08:37.546852Z"
    }
   },
   "outputs": [
    {
     "data": {
      "text/html": [
       "<div>\n",
       "<style scoped>\n",
       "    .dataframe tbody tr th:only-of-type {\n",
       "        vertical-align: middle;\n",
       "    }\n",
       "\n",
       "    .dataframe tbody tr th {\n",
       "        vertical-align: top;\n",
       "    }\n",
       "\n",
       "    .dataframe thead th {\n",
       "        text-align: right;\n",
       "    }\n",
       "</style>\n",
       "<table border=\"1\" class=\"dataframe\">\n",
       "  <thead>\n",
       "    <tr style=\"text-align: right;\">\n",
       "      <th></th>\n",
       "      <th>id</th>\n",
       "      <th>context</th>\n",
       "      <th>question-X</th>\n",
       "      <th>canquestion-X</th>\n",
       "      <th>answer-Y</th>\n",
       "      <th>judgements</th>\n",
       "      <th>goldstandard1</th>\n",
       "      <th>goldstandard2</th>\n",
       "      <th>label_2</th>\n",
       "      <th>labels</th>\n",
       "    </tr>\n",
       "  </thead>\n",
       "  <tbody>\n",
       "    <tr>\n",
       "      <th>0</th>\n",
       "      <td>NaN</td>\n",
       "      <td>NaN</td>\n",
       "      <td>Did you eat the last piece of cake?</td>\n",
       "      <td>NaN</td>\n",
       "      <td>I really enjoyed it. It was delicious!</td>\n",
       "      <td>NaN</td>\n",
       "      <td>NaN</td>\n",
       "      <td>NaN</td>\n",
       "      <td>NaN</td>\n",
       "      <td>0</td>\n",
       "    </tr>\n",
       "    <tr>\n",
       "      <th>1</th>\n",
       "      <td>NaN</td>\n",
       "      <td>NaN</td>\n",
       "      <td>Are you coming to the meeting tomorrow?</td>\n",
       "      <td>NaN</td>\n",
       "      <td>I'll need to check my schedule and see what's ...</td>\n",
       "      <td>NaN</td>\n",
       "      <td>NaN</td>\n",
       "      <td>NaN</td>\n",
       "      <td>NaN</td>\n",
       "      <td>0</td>\n",
       "    </tr>\n",
       "    <tr>\n",
       "      <th>2</th>\n",
       "      <td>NaN</td>\n",
       "      <td>NaN</td>\n",
       "      <td>Did you finish the report I asked you to compl...</td>\n",
       "      <td>NaN</td>\n",
       "      <td>I worked on it for a while, but I got busy wit...</td>\n",
       "      <td>NaN</td>\n",
       "      <td>NaN</td>\n",
       "      <td>NaN</td>\n",
       "      <td>NaN</td>\n",
       "      <td>0</td>\n",
       "    </tr>\n",
       "    <tr>\n",
       "      <th>3</th>\n",
       "      <td>NaN</td>\n",
       "      <td>NaN</td>\n",
       "      <td>Have you decided on your vacation destination?</td>\n",
       "      <td>NaN</td>\n",
       "      <td>I'm thinking about a few places, but I need to...</td>\n",
       "      <td>NaN</td>\n",
       "      <td>NaN</td>\n",
       "      <td>NaN</td>\n",
       "      <td>NaN</td>\n",
       "      <td>0</td>\n",
       "    </tr>\n",
       "    <tr>\n",
       "      <th>4</th>\n",
       "      <td>NaN</td>\n",
       "      <td>NaN</td>\n",
       "      <td>Did you enjoy the service that we provided?</td>\n",
       "      <td>NaN</td>\n",
       "      <td>I would have to say yes to disappointment I'm ...</td>\n",
       "      <td>NaN</td>\n",
       "      <td>NaN</td>\n",
       "      <td>NaN</td>\n",
       "      <td>NaN</td>\n",
       "      <td>0</td>\n",
       "    </tr>\n",
       "    <tr>\n",
       "      <th>5</th>\n",
       "      <td>NaN</td>\n",
       "      <td>NaN</td>\n",
       "      <td>Did you like the book you just finished?</td>\n",
       "      <td>NaN</td>\n",
       "      <td>The ending was unexpected, but I had mixed fee...</td>\n",
       "      <td>NaN</td>\n",
       "      <td>NaN</td>\n",
       "      <td>NaN</td>\n",
       "      <td>NaN</td>\n",
       "      <td>0</td>\n",
       "    </tr>\n",
       "    <tr>\n",
       "      <th>6</th>\n",
       "      <td>NaN</td>\n",
       "      <td>NaN</td>\n",
       "      <td>Are you willing to contribute to the charity?</td>\n",
       "      <td>NaN</td>\n",
       "      <td>I'm open to it, provided it's a cause I believ...</td>\n",
       "      <td>NaN</td>\n",
       "      <td>NaN</td>\n",
       "      <td>NaN</td>\n",
       "      <td>NaN</td>\n",
       "      <td>0</td>\n",
       "    </tr>\n",
       "    <tr>\n",
       "      <th>7</th>\n",
       "      <td>NaN</td>\n",
       "      <td>NaN</td>\n",
       "      <td>Want to go to the waterpark this weekend?</td>\n",
       "      <td>NaN</td>\n",
       "      <td>Let's get soaked!</td>\n",
       "      <td>NaN</td>\n",
       "      <td>NaN</td>\n",
       "      <td>NaN</td>\n",
       "      <td>NaN</td>\n",
       "      <td>0</td>\n",
       "    </tr>\n",
       "    <tr>\n",
       "      <th>8</th>\n",
       "      <td>NaN</td>\n",
       "      <td>NaN</td>\n",
       "      <td>Will you support the new policy?</td>\n",
       "      <td>NaN</td>\n",
       "      <td>Haven't made up my mind yet.</td>\n",
       "      <td>NaN</td>\n",
       "      <td>NaN</td>\n",
       "      <td>NaN</td>\n",
       "      <td>NaN</td>\n",
       "      <td>0</td>\n",
       "    </tr>\n",
       "  </tbody>\n",
       "</table>\n",
       "</div>"
      ],
      "text/plain": [
       "   id context                                         question-X  \\\n",
       "0 NaN     NaN                Did you eat the last piece of cake?   \n",
       "1 NaN     NaN            Are you coming to the meeting tomorrow?   \n",
       "2 NaN     NaN  Did you finish the report I asked you to compl...   \n",
       "3 NaN     NaN     Have you decided on your vacation destination?   \n",
       "4 NaN     NaN        Did you enjoy the service that we provided?   \n",
       "5 NaN     NaN           Did you like the book you just finished?   \n",
       "6 NaN     NaN      Are you willing to contribute to the charity?   \n",
       "7 NaN     NaN          Want to go to the waterpark this weekend?   \n",
       "8 NaN     NaN                   Will you support the new policy?   \n",
       "\n",
       "  canquestion-X                                           answer-Y judgements  \\\n",
       "0           NaN             I really enjoyed it. It was delicious!        NaN   \n",
       "1           NaN  I'll need to check my schedule and see what's ...        NaN   \n",
       "2           NaN  I worked on it for a while, but I got busy wit...        NaN   \n",
       "3           NaN  I'm thinking about a few places, but I need to...        NaN   \n",
       "4           NaN  I would have to say yes to disappointment I'm ...        NaN   \n",
       "5           NaN  The ending was unexpected, but I had mixed fee...        NaN   \n",
       "6           NaN  I'm open to it, provided it's a cause I believ...        NaN   \n",
       "7           NaN                                  Let's get soaked!        NaN   \n",
       "8           NaN                       Haven't made up my mind yet.        NaN   \n",
       "\n",
       "  goldstandard1 goldstandard2 label_2  labels  \n",
       "0           NaN           NaN     NaN       0  \n",
       "1           NaN           NaN     NaN       0  \n",
       "2           NaN           NaN     NaN       0  \n",
       "3           NaN           NaN     NaN       0  \n",
       "4           NaN           NaN     NaN       0  \n",
       "5           NaN           NaN     NaN       0  \n",
       "6           NaN           NaN     NaN       0  \n",
       "7           NaN           NaN     NaN       0  \n",
       "8           NaN           NaN     NaN       0  "
      ]
     },
     "execution_count": 124,
     "metadata": {},
     "output_type": "execute_result"
    }
   ],
   "source": [
    "for x in range(0,9):\n",
    "    data_template.loc[x, 'question-X'] = questions[x]\n",
    "    data_template.loc[x, 'answer-Y'] = answers[x]\n",
    "    data_template.loc[x, 'labels'] = \"random\"\n",
    "\n",
    "    \n",
    "data_template['labels'] = data_template['labels'].map({'random': 0})\n",
    "data_template"
   ]
  },
  {
   "cell_type": "code",
   "execution_count": 108,
   "metadata": {
    "execution": {
     "iopub.execute_input": "2023-10-09T20:59:47.707955Z",
     "iopub.status.busy": "2023-10-09T20:59:47.707611Z",
     "iopub.status.idle": "2023-10-09T20:59:47.715731Z",
     "shell.execute_reply": "2023-10-09T20:59:47.713813Z",
     "shell.execute_reply.started": "2023-10-09T20:59:47.707930Z"
    }
   },
   "outputs": [],
   "source": [
    "# data_template"
   ]
  },
  {
   "cell_type": "code",
   "execution_count": 125,
   "metadata": {
    "execution": {
     "iopub.execute_input": "2023-10-09T21:08:43.467319Z",
     "iopub.status.busy": "2023-10-09T21:08:43.466969Z",
     "iopub.status.idle": "2023-10-09T21:08:43.518388Z",
     "shell.execute_reply": "2023-10-09T21:08:43.517518Z",
     "shell.execute_reply.started": "2023-10-09T21:08:43.467293Z"
    }
   },
   "outputs": [
    {
     "data": {
      "application/vnd.jupyter.widget-view+json": {
       "model_id": "991bbf6475cc4d9ab678754159c11fed",
       "version_major": 2,
       "version_minor": 0
      },
      "text/plain": [
       "  0%|          | 0/1 [00:00<?, ?ba/s]"
      ]
     },
     "metadata": {},
     "output_type": "display_data"
    }
   ],
   "source": [
    "data_samples = Dataset.from_pandas(data_template)\n",
    "tokenize_function = lambda e: tokenizer(e['question-X'], e['answer-Y'], truncation=True, padding='max_length', max_length=512)\n",
    "data_samples = data_samples.map(tokenize_function, batched=True)\n",
    "data_samples.set_format(type='torch')"
   ]
  },
  {
   "cell_type": "code",
   "execution_count": 126,
   "metadata": {
    "execution": {
     "iopub.execute_input": "2023-10-09T21:08:46.502589Z",
     "iopub.status.busy": "2023-10-09T21:08:46.502238Z",
     "iopub.status.idle": "2023-10-09T21:08:46.514852Z",
     "shell.execute_reply": "2023-10-09T21:08:46.513879Z",
     "shell.execute_reply.started": "2023-10-09T21:08:46.502562Z"
    }
   },
   "outputs": [],
   "source": [
    "# samples_predictions = trainer.predict(data_samples)"
   ]
  },
  {
   "cell_type": "code",
   "execution_count": 127,
   "metadata": {
    "execution": {
     "iopub.execute_input": "2023-10-09T21:08:50.301861Z",
     "iopub.status.busy": "2023-10-09T21:08:50.301546Z",
     "iopub.status.idle": "2023-10-09T21:08:50.313240Z",
     "shell.execute_reply": "2023-10-09T21:08:50.311065Z",
     "shell.execute_reply.started": "2023-10-09T21:08:50.301838Z"
    }
   },
   "outputs": [
    {
     "data": {
      "text/plain": [
       "PredictionOutput(predictions=array([[10.126816  , -0.42643693, -1.6540213 ,  1.2501225 , -7.800314  ],\n",
       "       [ 1.9932374 ,  5.318508  , -1.2673482 ,  4.537936  , -9.464727  ],\n",
       "       [ 3.4238472 ,  7.608694  , -3.7428658 , -0.32347912, -4.197444  ],\n",
       "       [ 1.7642367 ,  5.802375  ,  1.6382964 ,  1.1260295 , -4.7271757 ],\n",
       "       [ 2.2850184 ,  8.788585  , -0.3716575 ,  0.9038954 , -7.771817  ],\n",
       "       [ 0.71667373,  4.247594  , -2.1853766 ,  2.7174733 , -1.9434562 ],\n",
       "       [ 6.388684  ,  1.2695456 ,  1.0262202 ,  1.6515431 , -8.621865  ],\n",
       "       [ 7.5551505 ,  0.30653703,  2.2056208 , -1.8545654 , -5.0860844 ],\n",
       "       [ 3.3414044 ,  5.409586  , -0.3273251 ,  3.1183643 , -5.0964146 ]],\n",
       "      dtype=float32), label_ids=array([0, 0, 0, 0, 0, 0, 0, 0, 0]), metrics={'test_loss': 2.72975492477417, 'test_accuracy': 0.3333333333333333, 'test_runtime': 0.1883, 'test_samples_per_second': 47.798, 'test_steps_per_second': 5.311})"
      ]
     },
     "execution_count": 127,
     "metadata": {},
     "output_type": "execute_result"
    }
   ],
   "source": [
    "samples_predictions"
   ]
  },
  {
   "cell_type": "code",
   "execution_count": 128,
   "metadata": {
    "execution": {
     "iopub.execute_input": "2023-10-09T21:09:17.253791Z",
     "iopub.status.busy": "2023-10-09T21:09:17.253427Z",
     "iopub.status.idle": "2023-10-09T21:09:17.269999Z",
     "shell.execute_reply": "2023-10-09T21:09:17.267239Z",
     "shell.execute_reply.started": "2023-10-09T21:09:17.253767Z"
    }
   },
   "outputs": [
    {
     "data": {
      "text/plain": [
       "array([0, 1, 1, 1, 1, 1, 0, 0, 1])"
      ]
     },
     "execution_count": 128,
     "metadata": {},
     "output_type": "execute_result"
    }
   ],
   "source": [
    "import numpy as np\n",
    "preds = np.argmax(samples_predictions.predictions, axis=1)\n",
    "preds"
   ]
  }
 ],
 "metadata": {
  "kernelspec": {
   "display_name": "Python 3 (ipykernel)",
   "language": "python",
   "name": "python3"
  },
  "language_info": {
   "codemirror_mode": {
    "name": "ipython",
    "version": 3
   },
   "file_extension": ".py",
   "mimetype": "text/x-python",
   "name": "python",
   "nbconvert_exporter": "python",
   "pygments_lexer": "ipython3",
   "version": "3.9.7"
  }
 },
 "nbformat": 4,
 "nbformat_minor": 4
}
